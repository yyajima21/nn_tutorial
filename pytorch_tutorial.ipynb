{
  "nbformat": 4,
  "nbformat_minor": 0,
  "metadata": {
    "colab": {
      "name": "pytorch_tutorial.ipynb",
      "provenance": [],
      "authorship_tag": "ABX9TyOo0pqXiBROWw0vBO98VPST"
    },
    "kernelspec": {
      "name": "python3",
      "display_name": "Python 3"
    }
  },
  "cells": [
    {
      "cell_type": "markdown",
      "metadata": {
        "id": "C_HuW6u1Exuh",
        "colab_type": "text"
      },
      "source": [
        "This is an example code for nn class"
      ]
    },
    {
      "cell_type": "code",
      "metadata": {
        "id": "ZFsPsbRvE8lZ",
        "colab_type": "code",
        "colab": {}
      },
      "source": [
        ""
      ],
      "execution_count": 0,
      "outputs": []
    }
  ]
}